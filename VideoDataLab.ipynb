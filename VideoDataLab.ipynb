{
 "cells": [
  {
   "cell_type": "code",
   "execution_count": 19,
   "metadata": {},
   "outputs": [],
   "source": [
    "import pandas"
   ]
  },
  {
   "cell_type": "code",
   "execution_count": 20,
   "metadata": {},
   "outputs": [
    {
     "name": "stdout",
     "output_type": "stream",
     "text": [
      "['video_id' 'trending_date' 'title' 'channel_title' 'category_id'\n",
      " 'publish_time' 'tags' 'views' 'likes' 'dislikes' 'comment_count'\n",
      " 'thumbnail_link' 'comments_disabled' 'ratings_disabled'\n",
      " 'video_error_or_removed' 'description']\n"
     ]
    }
   ],
   "source": [
    "open(r'C:\\Users\\danie\\Desktop\\USvideos.csv')\n",
    "vids = pandas.read_csv(r'C:\\Users\\danie\\Desktop\\USvideos.csv')\n",
    "vids.fillna(0, inplace=True)\n",
    "print(vids.columns.values)"
   ]
  },
  {
   "cell_type": "code",
   "execution_count": 21,
   "metadata": {},
   "outputs": [],
   "source": [
    "import math\n",
    "selected_vid = vids[vids[\"title\"] == \"WE WANT TO TALK ABOUT OUR MARRIAGE\"].iloc[0]\n",
    "\n",
    "# Choose only the numeric columns (we'll use these to compute euclidean distance)\n",
    "distance_columns = [ 'views' ,'likes' ,'dislikes' ,'comment_count']\n",
    "def euclidean_distance(row):\n",
    "    \"\"\"\n",
    "    A simple euclidean distance function\n",
    "    \"\"\"\n",
    "    inner_value = 0\n",
    "    for k in distance_columns:\n",
    "        inner_value += (row[k] - selected_vid[k]) ** 2\n",
    "    return math.sqrt(inner_value)\n",
    "\n",
    "# Find the distance from each video to the vid selected\n",
    "video_selec_distance = vids.apply(euclidean_distance, axis=1)"
   ]
  },
  {
   "cell_type": "code",
   "execution_count": 22,
   "metadata": {},
   "outputs": [],
   "source": [
    "vid_numeric = vids[distance_columns]  \n",
    "# Normalize all of the numeric columns \n",
    "vid_normalized = (vid_numeric - vid_numeric.mean()) / vid_numeric.std()"
   ]
  },
  {
   "cell_type": "code",
   "execution_count": 25,
   "metadata": {},
   "outputs": [
    {
     "name": "stdout",
     "output_type": "stream",
     "text": [
      "views           -0.218067\n",
      "likes           -0.073136\n",
      "dislikes        -0.025677\n",
      "comment_count    0.200564\n",
      "Name: 0, dtype: float64\n"
     ]
    }
   ],
   "source": [
    "from scipy.spatial import distance\n",
    "\n",
    "# Fill in NA values in vid_normalized\n",
    "vid_normalized.fillna(0, inplace=True)\n",
    "\n",
    "# Find the normalized vector for .\"WE WANT TO TALK ABOUT OUR MARRIAGE\"\n",
    "# had to do iloc here since there are multiple videos with the same name\n",
    "video_selec_normalized = vid_normalized[vids[\"title\"] == \"WE WANT TO TALK ABOUT OUR MARRIAGE\"].iloc[0]\n",
    "print(video_selec_normalized)\n",
    "# Find the distance between selected video and the rest\n",
    "euclidean_distances = vid_normalized.apply(lambda row: distance.euclidean(row, video_selec_normalized), axis=1)\n",
    "\n",
    "# Create a new dataframe with distances.\n",
    "distance_frame = pandas.DataFrame(data={\"dist\": euclidean_distances, \"idx\": euclidean_distances.index})\n",
    "distance_frame.sort_values(\"dist\", inplace=True)\n",
    "# Find the most similar video to the given vid\n",
    "second_smallest = distance_frame.iloc[1][\"idx\"]\n",
    "most_similar_to_vid = vids.loc[int(second_smallest)][\"title\"]"
   ]
  },
  {
   "cell_type": "code",
   "execution_count": 26,
   "metadata": {},
   "outputs": [],
   "source": [
    "import random\n",
    "from numpy.random import permutation\n",
    "\n",
    "random_indices = permutation(vids.index)\n",
    "\n",
    "# Set a cutoff for how many items we want in the test set (in this case 1/3 of the items)\n",
    "test_cutoff = math.floor(len(vids)/3)\n",
    "\n",
    "# Generate the test set by taking the first 1/3 of the randomly shuffled indices.\n",
    "test = vids.loc[random_indices[1:test_cutoff]]\n",
    "\n",
    "# Generate the train set with the rest of the data.\n",
    "train = vids.loc[random_indices[test_cutoff:]]"
   ]
  },
  {
   "cell_type": "code",
   "execution_count": 32,
   "metadata": {},
   "outputs": [],
   "source": [
    "x_columns=['likes' ,'dislikes' ,'comment_count']"
   ]
  },
  {
   "cell_type": "code",
   "execution_count": 33,
   "metadata": {},
   "outputs": [],
   "source": [
    "y_column=[\"views\"]"
   ]
  },
  {
   "cell_type": "code",
   "execution_count": 34,
   "metadata": {},
   "outputs": [],
   "source": [
    "from sklearn.neighbors import KNeighborsRegressor\n",
    "# Create the knn model.\n",
    "# Look at the five closest neighbors.\n",
    "knn = KNeighborsRegressor(n_neighbors=5)\n",
    "# Fit the model on the training data."
   ]
  },
  {
   "cell_type": "code",
   "execution_count": 35,
   "metadata": {},
   "outputs": [],
   "source": [
    "knn.fit(train[x_columns], train[y_column])\n",
    "# Make point predictions on the test set using the fit model.\n",
    "predictions = knn.predict(test[x_columns])"
   ]
  },
  {
   "cell_type": "code",
   "execution_count": 36,
   "metadata": {},
   "outputs": [],
   "source": [
    "# Get the actual values for the test set.\n",
    "actual = test[y_column]\n",
    "\n",
    "# Compute the mean squared error of our predictions.\n",
    "mse = (((predictions - actual) ** 2).sum()) / len(predictions)"
   ]
  },
  {
   "cell_type": "code",
   "execution_count": 38,
   "metadata": {},
   "outputs": [
    {
     "name": "stdout",
     "output_type": "stream",
     "text": [
      "views    6.329529e+12\n",
      "dtype: float64\n"
     ]
    }
   ],
   "source": [
    "#output the final prediction\n",
    "print(mse)"
   ]
  },
  {
   "cell_type": "code",
   "execution_count": null,
   "metadata": {},
   "outputs": [],
   "source": []
  }
 ],
 "metadata": {
  "kernelspec": {
   "display_name": "Python 3",
   "language": "python",
   "name": "python3"
  },
  "language_info": {
   "codemirror_mode": {
    "name": "ipython",
    "version": 3
   },
   "file_extension": ".py",
   "mimetype": "text/x-python",
   "name": "python",
   "nbconvert_exporter": "python",
   "pygments_lexer": "ipython3",
   "version": "3.8.3"
  }
 },
 "nbformat": 4,
 "nbformat_minor": 4
}
